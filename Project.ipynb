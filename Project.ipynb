{
  "nbformat": 4,
  "nbformat_minor": 0,
  "metadata": {
    "colab": {
      "name": "Project.ipynb",
      "version": "0.3.2",
      "provenance": [],
      "include_colab_link": true
    },
    "kernelspec": {
      "name": "python3",
      "display_name": "Python 3"
    },
    "accelerator": "GPU"
  },
  "cells": [
    {
      "cell_type": "markdown",
      "metadata": {
        "id": "view-in-github",
        "colab_type": "text"
      },
      "source": [
        "<a href=\"https://colab.research.google.com/github/SabtheCrab/CS-175-Final-Project/blob/master/Project.ipynb\" target=\"_parent\"><img src=\"https://colab.research.google.com/assets/colab-badge.svg\" alt=\"Open In Colab\"/></a>"
      ]
    },
    {
      "metadata": {
        "id": "n8PCyqmac8hf",
        "colab_type": "text"
      },
      "cell_type": "markdown",
      "source": [
        "#CS 175 Final Project: Humback Whale Identification\n",
        "Group Member 1:\n",
        "\n",
        "Name: Sabrina Will\n",
        "\n",
        "Group Member 2:\n",
        "\n",
        "Name: Jeffrey Lee Ye\n",
        "\n",
        "CREDITS FOR BOUNDING BOX CROPPED DATASET: https://www.kaggle.com/josemontiel/humpback-whale-bounding-box-cropped-dataset/output"
      ]
    },
    {
      "metadata": {
        "id": "Qky-4GbsdCKd",
        "colab_type": "text"
      },
      "cell_type": "markdown",
      "source": [
        "#Loading the Data in"
      ]
    },
    {
      "metadata": {
        "id": "3JkpqKazc6d0",
        "colab_type": "code",
        "colab": {
          "base_uri": "https://localhost:8080/",
          "height": 34
        },
        "outputId": "62519184-2ae7-478a-f361-32bfbf791f61"
      },
      "cell_type": "code",
      "source": [
        "#We are using a data set, which originally came from the kaggle competition. However, many of the images suffered from misalignment issues and have \n",
        "#large amounts of background space we dont need our AI to consider when looking at whale flukes. As such, someone blessed competitors with a\n",
        "#dataset that reformats all original images and crops out just the whale fluke itself. This is the data we are using in our project. \n",
        "\n",
        "from google.colab import drive\n",
        "drive.mount('/content/drive') "
      ],
      "execution_count": 4,
      "outputs": [
        {
          "output_type": "stream",
          "text": [
            "Drive already mounted at /content/drive; to attempt to forcibly remount, call drive.mount(\"/content/drive\", force_remount=True).\n"
          ],
          "name": "stdout"
        }
      ]
    },
    {
      "metadata": {
        "id": "jHW2GFGOdKKG",
        "colab_type": "code",
        "colab": {
          "base_uri": "https://localhost:8080/",
          "height": 34
        },
        "outputId": "ef319b2a-2772-4dbc-97bb-380ed5ef455b"
      },
      "cell_type": "code",
      "source": [
        "%cd /content/drive/My\\ Drive/project/data"
      ],
      "execution_count": 9,
      "outputs": [
        {
          "output_type": "stream",
          "text": [
            "/content/drive/My Drive/project/data\n"
          ],
          "name": "stdout"
        }
      ]
    },
    {
      "metadata": {
        "id": "LCWXWDhuv_eG",
        "colab_type": "code",
        "colab": {
          "base_uri": "https://localhost:8080/",
          "height": 34
        },
        "outputId": "5bc04716-65ca-4f07-fc6c-6bc16cb5ca62"
      },
      "cell_type": "code",
      "source": [
        "!ls"
      ],
      "execution_count": 73,
      "outputs": [
        {
          "output_type": "stream",
          "text": [
            " checkpoint.pth.tar   train.csv  'training (1)'\n"
          ],
          "name": "stdout"
        }
      ]
    },
    {
      "metadata": {
        "id": "P27Cs4Lpd6eH",
        "colab_type": "code",
        "colab": {
          "base_uri": "https://localhost:8080/",
          "height": 204
        },
        "outputId": "541bfe60-09e8-4c08-8c54-31c45b744acc"
      },
      "cell_type": "code",
      "source": [
        "import copy, cv2, json, os, time, torch, torchvision\n",
        "\n",
        "from collections import OrderedDict\n",
        "\n",
        "import matplotlib.pyplot as plt\n",
        "import matplotlib.image as mpimg\n",
        "\n",
        "import numpy as np\n",
        "import pandas as pd\n",
        "from PIL import Image\n",
        "from torch import nn\n",
        "from torch import optim\n",
        "from torch.autograd import Variable\n",
        "import torch.nn.functional as F\n",
        "from torch.optim import lr_scheduler\n",
        "import torch.utils.data as data\n",
        "from torch.utils.data.dataset import Dataset\n",
        "from torch.utils.data.dataloader import DataLoader\n",
        "import torchvision.models as models\n",
        "from torchvision import transforms\n",
        "import torchvision.datasets as datasets\n",
        "\n",
        "import pandas as pd\n",
        "\n",
        "import seaborn as sns\n",
        "\n",
        "df = pd.read_csv('train.csv')\n",
        "df.head()"
      ],
      "execution_count": 74,
      "outputs": [
        {
          "output_type": "execute_result",
          "data": {
            "text/html": [
              "<div>\n",
              "<style scoped>\n",
              "    .dataframe tbody tr th:only-of-type {\n",
              "        vertical-align: middle;\n",
              "    }\n",
              "\n",
              "    .dataframe tbody tr th {\n",
              "        vertical-align: top;\n",
              "    }\n",
              "\n",
              "    .dataframe thead th {\n",
              "        text-align: right;\n",
              "    }\n",
              "</style>\n",
              "<table border=\"1\" class=\"dataframe\">\n",
              "  <thead>\n",
              "    <tr style=\"text-align: right;\">\n",
              "      <th></th>\n",
              "      <th>Image</th>\n",
              "      <th>Id</th>\n",
              "    </tr>\n",
              "  </thead>\n",
              "  <tbody>\n",
              "    <tr>\n",
              "      <th>0</th>\n",
              "      <td>fee74461e.jpg</td>\n",
              "      <td>w_314bc30</td>\n",
              "    </tr>\n",
              "    <tr>\n",
              "      <th>1</th>\n",
              "      <td>feea8c488.jpg</td>\n",
              "      <td>w_5b16177</td>\n",
              "    </tr>\n",
              "    <tr>\n",
              "      <th>2</th>\n",
              "      <td>feed76893.jpg</td>\n",
              "      <td>w_bdded04</td>\n",
              "    </tr>\n",
              "    <tr>\n",
              "      <th>3</th>\n",
              "      <td>fef0dc4a1.jpg</td>\n",
              "      <td>w_e6325d7</td>\n",
              "    </tr>\n",
              "    <tr>\n",
              "      <th>4</th>\n",
              "      <td>fef49fdb3.jpg</td>\n",
              "      <td>new_whale</td>\n",
              "    </tr>\n",
              "  </tbody>\n",
              "</table>\n",
              "</div>"
            ],
            "text/plain": [
              "           Image         Id\n",
              "0  fee74461e.jpg  w_314bc30\n",
              "1  feea8c488.jpg  w_5b16177\n",
              "2  feed76893.jpg  w_bdded04\n",
              "3  fef0dc4a1.jpg  w_e6325d7\n",
              "4  fef49fdb3.jpg  new_whale"
            ]
          },
          "metadata": {
            "tags": []
          },
          "execution_count": 74
        }
      ]
    },
    {
      "metadata": {
        "id": "NW4B6PsMeCRe",
        "colab_type": "text"
      },
      "cell_type": "markdown",
      "source": [
        "This is what the training csv looks like. It contains an image and the correct whale id associated with the image"
      ]
    },
    {
      "metadata": {
        "id": "bkDZy7YXeAl3",
        "colab_type": "code",
        "colab": {
          "base_uri": "https://localhost:8080/",
          "height": 34
        },
        "outputId": "1fd2c0b8-e2af-484f-a4ca-bcfd762e1f33"
      },
      "cell_type": "code",
      "source": [
        "#find number of unique whale individuals, we are only importing the first 100 unique individuals for the demo\n",
        "n_unique = len(df['Id'].unique())\n",
        "print (\"Number of Unique Categories : \" + str(n_unique))"
      ],
      "execution_count": 75,
      "outputs": [
        {
          "output_type": "stream",
          "text": [
            "Number of Unique Categories : 58\n"
          ],
          "name": "stdout"
        }
      ]
    },
    {
      "metadata": {
        "id": "xM0oiQgJeHuc",
        "colab_type": "code",
        "colab": {}
      },
      "cell_type": "code",
      "source": [
        "class HumpbackWhale_Dataset(Dataset):\n",
        "    def __init__(self,filepath, csv_path, transform=None):\n",
        "        self.file_path = filepath\n",
        "        self.df = pd.read_csv(csv_path)\n",
        "        self.transform = transform\n",
        "        self.image_list = [x for x in os.listdir(self.file_path)]\n",
        "        \n",
        "    def __len__(self):\n",
        "        return(len(self.image_list))\n",
        "    \n",
        "    def __getitem__(self,idx):\n",
        "        img_path = os.path.join(self.file_path,self.df.Image[idx])\n",
        "        label = self.df.Id[idx]\n",
        "        imgRGB = Image.open(img_path).convert('RGB')\n",
        "        img = self.transform(imgRGB)\n",
        "        imgName = self.df.Image[idx]\n",
        "        return img, label, imgName\n",
        "\n",
        "def label_to_id(label):\n",
        "    x = [label_to_idNum[i] for i in label]\n",
        "    return torch.tensor(x)"
      ],
      "execution_count": 0,
      "outputs": []
    },
    {
      "metadata": {
        "id": "vl31NFJZeJ_e",
        "colab_type": "code",
        "colab": {}
      },
      "cell_type": "code",
      "source": [
        "dims = 128\n",
        "\n",
        "transform = transforms.Compose([\n",
        "                              transforms.Resize((dims, dims)),\n",
        "                              transforms.ToTensor(),\n",
        "                              transforms.Normalize(mean=[0.485, 0.456, 0.406],\n",
        "                                                     std=[0.229, 0.224, 0.225])])"
      ],
      "execution_count": 0,
      "outputs": []
    },
    {
      "metadata": {
        "id": "myfNnaFVeN6B",
        "colab_type": "code",
        "colab": {
          "base_uri": "https://localhost:8080/",
          "height": 34
        },
        "outputId": "dbecb33a-3c67-4958-fc2a-1f39f698aea9"
      },
      "cell_type": "code",
      "source": [
        "train_dataset = HumpbackWhale_Dataset('training (1)','train.csv', transform)\n",
        "print(len(train_dataset.image_list))"
      ],
      "execution_count": 79,
      "outputs": [
        {
          "output_type": "stream",
          "text": [
            "100\n"
          ],
          "name": "stdout"
        }
      ]
    },
    {
      "metadata": {
        "id": "wM7cDQfyfTdS",
        "colab_type": "code",
        "colab": {
          "base_uri": "https://localhost:8080/",
          "height": 51
        },
        "outputId": "a7ca2326-75d7-45b7-a8bd-4c48efbc735a"
      },
      "cell_type": "code",
      "source": [
        "test_size = .2\n",
        "n = len(train_dataset)\n",
        "\n",
        "np.random.seed(0)\n",
        "a = list(range(n))\n",
        "\n",
        "train_index = np.random.choice(a,replace=False,size=int(n*(1-test_size)))\n",
        "test_index = np.setdiff1d(a,train_index)\n",
        "print(train_index.size)\n",
        "print(test_index.size)"
      ],
      "execution_count": 80,
      "outputs": [
        {
          "output_type": "stream",
          "text": [
            "80\n",
            "20\n"
          ],
          "name": "stdout"
        }
      ]
    },
    {
      "metadata": {
        "id": "ITW27j0TftkD",
        "colab_type": "code",
        "colab": {
          "base_uri": "https://localhost:8080/",
          "height": 51
        },
        "outputId": "4f4d8da2-3983-4fc0-b11d-79855ecf1dbd"
      },
      "cell_type": "code",
      "source": [
        "#load the data in finally\n",
        "data_train = copy.deepcopy(train_dataset)\n",
        "data_train.image_list = [train_dataset.image_list[i] for i in train_index]\n",
        "\n",
        "data_validate = copy.deepcopy(train_dataset)\n",
        "data_validate.image_list = [train_dataset.image_list[i] for i in test_index]\n",
        "\n",
        "gen_train = DataLoader(data_train,batch_size=20, shuffle=True)\n",
        "gen_validate = DataLoader(data_validate,batch_size=20, shuffle=True)\n",
        "\n",
        "print(len(gen_train))\n",
        "print(len(gen_validate))"
      ],
      "execution_count": 81,
      "outputs": [
        {
          "output_type": "stream",
          "text": [
            "4\n",
            "1\n"
          ],
          "name": "stdout"
        }
      ]
    },
    {
      "metadata": {
        "id": "4SPnqfxRgTD7",
        "colab_type": "code",
        "colab": {
          "base_uri": "https://localhost:8080/",
          "height": 34
        },
        "outputId": "9bc6674d-77fc-473e-e835-b39733e324b6"
      },
      "cell_type": "code",
      "source": [
        "# Convolutional neural network (two convolutional layers)\n",
        "class ConvNet(nn.Module):\n",
        "    def __init__(self, num_classes=5005):\n",
        "        super(ConvNet, self).__init__()\n",
        "        self.layer1 = nn.Sequential(\n",
        "            nn.Conv2d(3, 16, kernel_size=5, stride=1, padding=2),\n",
        "            nn.BatchNorm2d(16),\n",
        "            nn.ReLU(),\n",
        "            nn.MaxPool2d(kernel_size=2, stride=2))\n",
        "        self.layer2 = nn.Sequential(\n",
        "            nn.Conv2d(16, 32, kernel_size=5, stride=1, padding=2),\n",
        "            nn.BatchNorm2d(32),\n",
        "            nn.ReLU(),\n",
        "            nn.MaxPool2d(kernel_size=2, stride=2))\n",
        "        self.fc = nn.Linear(int(32*dims*dims/4/4), num_classes)\n",
        "        \n",
        "    def forward(self, x):\n",
        "        out = self.layer1(x)\n",
        "        out = self.layer2(out)\n",
        "        out = out.reshape(out.size(0), -1)\n",
        "        out = self.fc(out)\n",
        "        return out\n",
        "\n",
        "print(\"Cuda\" if torch.cuda.is_available() else \"CPU\")\n",
        "  \n",
        "device = torch.device('cuda:0' if torch.cuda.is_available() else 'cpu')\n",
        "\n",
        "model = ConvNet(n_unique).to(device)\n",
        "# Loss and optimizer\n",
        "criterion = nn.CrossEntropyLoss()\n",
        "optimizer = torch.optim.Adam(model.parameters(), lr=1e-3)"
      ],
      "execution_count": 82,
      "outputs": [
        {
          "output_type": "stream",
          "text": [
            "Cuda\n"
          ],
          "name": "stdout"
        }
      ]
    },
    {
      "metadata": {
        "id": "KxIZsESfo_Bl",
        "colab_type": "code",
        "colab": {
          "base_uri": "https://localhost:8080/",
          "height": 1847
        },
        "outputId": "cbe6c79c-7027-46cf-8ff7-fef9c0f9add1"
      },
      "cell_type": "code",
      "source": [
        "n_train = len(df['Id'])\n",
        "#counts of each unique whale\n",
        "weight_series = df['Id'].value_counts()\n",
        "weight_df = pd.DataFrame(weight_series)\n",
        "weight_df.columns = ['count']\n",
        "weight_df['count'] = weight_df['count'].astype(float)\n",
        "weight_df['Id'] = weight_df.index\n",
        "weight_df = weight_df.reset_index(drop = True)\n",
        "weight_df['weight'] = n_train / (n_unique * weight_df['count'] )\n",
        "label_to_idNum = dict(zip(weight_df['Id'], range(n_unique)))\n",
        "weight_df"
      ],
      "execution_count": 83,
      "outputs": [
        {
          "output_type": "execute_result",
          "data": {
            "text/html": [
              "<div>\n",
              "<style scoped>\n",
              "    .dataframe tbody tr th:only-of-type {\n",
              "        vertical-align: middle;\n",
              "    }\n",
              "\n",
              "    .dataframe tbody tr th {\n",
              "        vertical-align: top;\n",
              "    }\n",
              "\n",
              "    .dataframe thead th {\n",
              "        text-align: right;\n",
              "    }\n",
              "</style>\n",
              "<table border=\"1\" class=\"dataframe\">\n",
              "  <thead>\n",
              "    <tr style=\"text-align: right;\">\n",
              "      <th></th>\n",
              "      <th>count</th>\n",
              "      <th>Id</th>\n",
              "      <th>weight</th>\n",
              "    </tr>\n",
              "  </thead>\n",
              "  <tbody>\n",
              "    <tr>\n",
              "      <th>0</th>\n",
              "      <td>42.0</td>\n",
              "      <td>new_whale</td>\n",
              "      <td>0.041051</td>\n",
              "    </tr>\n",
              "    <tr>\n",
              "      <th>1</th>\n",
              "      <td>2.0</td>\n",
              "      <td>w_f765256</td>\n",
              "      <td>0.862069</td>\n",
              "    </tr>\n",
              "    <tr>\n",
              "      <th>2</th>\n",
              "      <td>1.0</td>\n",
              "      <td>w_bfae26b</td>\n",
              "      <td>1.724138</td>\n",
              "    </tr>\n",
              "    <tr>\n",
              "      <th>3</th>\n",
              "      <td>1.0</td>\n",
              "      <td>w_bdded04</td>\n",
              "      <td>1.724138</td>\n",
              "    </tr>\n",
              "    <tr>\n",
              "      <th>4</th>\n",
              "      <td>1.0</td>\n",
              "      <td>w_772845b</td>\n",
              "      <td>1.724138</td>\n",
              "    </tr>\n",
              "    <tr>\n",
              "      <th>5</th>\n",
              "      <td>1.0</td>\n",
              "      <td>w_fbcfe74</td>\n",
              "      <td>1.724138</td>\n",
              "    </tr>\n",
              "    <tr>\n",
              "      <th>6</th>\n",
              "      <td>1.0</td>\n",
              "      <td>w_3f93ee8</td>\n",
              "      <td>1.724138</td>\n",
              "    </tr>\n",
              "    <tr>\n",
              "      <th>7</th>\n",
              "      <td>1.0</td>\n",
              "      <td>w_9f30885</td>\n",
              "      <td>1.724138</td>\n",
              "    </tr>\n",
              "    <tr>\n",
              "      <th>8</th>\n",
              "      <td>1.0</td>\n",
              "      <td>w_ba4f96c</td>\n",
              "      <td>1.724138</td>\n",
              "    </tr>\n",
              "    <tr>\n",
              "      <th>9</th>\n",
              "      <td>1.0</td>\n",
              "      <td>w_b3e445e</td>\n",
              "      <td>1.724138</td>\n",
              "    </tr>\n",
              "    <tr>\n",
              "      <th>10</th>\n",
              "      <td>1.0</td>\n",
              "      <td>w_1a151e5</td>\n",
              "      <td>1.724138</td>\n",
              "    </tr>\n",
              "    <tr>\n",
              "      <th>11</th>\n",
              "      <td>1.0</td>\n",
              "      <td>w_e1ffbe2</td>\n",
              "      <td>1.724138</td>\n",
              "    </tr>\n",
              "    <tr>\n",
              "      <th>12</th>\n",
              "      <td>1.0</td>\n",
              "      <td>w_bc285a6</td>\n",
              "      <td>1.724138</td>\n",
              "    </tr>\n",
              "    <tr>\n",
              "      <th>13</th>\n",
              "      <td>1.0</td>\n",
              "      <td>w_e8c5ff0</td>\n",
              "      <td>1.724138</td>\n",
              "    </tr>\n",
              "    <tr>\n",
              "      <th>14</th>\n",
              "      <td>1.0</td>\n",
              "      <td>w_17a108a</td>\n",
              "      <td>1.724138</td>\n",
              "    </tr>\n",
              "    <tr>\n",
              "      <th>15</th>\n",
              "      <td>1.0</td>\n",
              "      <td>w_9af432a</td>\n",
              "      <td>1.724138</td>\n",
              "    </tr>\n",
              "    <tr>\n",
              "      <th>16</th>\n",
              "      <td>1.0</td>\n",
              "      <td>w_d0a7600</td>\n",
              "      <td>1.724138</td>\n",
              "    </tr>\n",
              "    <tr>\n",
              "      <th>17</th>\n",
              "      <td>1.0</td>\n",
              "      <td>w_472b51c</td>\n",
              "      <td>1.724138</td>\n",
              "    </tr>\n",
              "    <tr>\n",
              "      <th>18</th>\n",
              "      <td>1.0</td>\n",
              "      <td>w_2548d54</td>\n",
              "      <td>1.724138</td>\n",
              "    </tr>\n",
              "    <tr>\n",
              "      <th>19</th>\n",
              "      <td>1.0</td>\n",
              "      <td>w_e6325d7</td>\n",
              "      <td>1.724138</td>\n",
              "    </tr>\n",
              "    <tr>\n",
              "      <th>20</th>\n",
              "      <td>1.0</td>\n",
              "      <td>w_4d06559</td>\n",
              "      <td>1.724138</td>\n",
              "    </tr>\n",
              "    <tr>\n",
              "      <th>21</th>\n",
              "      <td>1.0</td>\n",
              "      <td>w_39141fc</td>\n",
              "      <td>1.724138</td>\n",
              "    </tr>\n",
              "    <tr>\n",
              "      <th>22</th>\n",
              "      <td>1.0</td>\n",
              "      <td>w_51e7506</td>\n",
              "      <td>1.724138</td>\n",
              "    </tr>\n",
              "    <tr>\n",
              "      <th>23</th>\n",
              "      <td>1.0</td>\n",
              "      <td>w_d405854</td>\n",
              "      <td>1.724138</td>\n",
              "    </tr>\n",
              "    <tr>\n",
              "      <th>24</th>\n",
              "      <td>1.0</td>\n",
              "      <td>w_9cf0388</td>\n",
              "      <td>1.724138</td>\n",
              "    </tr>\n",
              "    <tr>\n",
              "      <th>25</th>\n",
              "      <td>1.0</td>\n",
              "      <td>w_bd1c3d5</td>\n",
              "      <td>1.724138</td>\n",
              "    </tr>\n",
              "    <tr>\n",
              "      <th>26</th>\n",
              "      <td>1.0</td>\n",
              "      <td>w_f0fe284</td>\n",
              "      <td>1.724138</td>\n",
              "    </tr>\n",
              "    <tr>\n",
              "      <th>27</th>\n",
              "      <td>1.0</td>\n",
              "      <td>w_107b98e</td>\n",
              "      <td>1.724138</td>\n",
              "    </tr>\n",
              "    <tr>\n",
              "      <th>28</th>\n",
              "      <td>1.0</td>\n",
              "      <td>w_acbedef</td>\n",
              "      <td>1.724138</td>\n",
              "    </tr>\n",
              "    <tr>\n",
              "      <th>29</th>\n",
              "      <td>1.0</td>\n",
              "      <td>w_583aba1</td>\n",
              "      <td>1.724138</td>\n",
              "    </tr>\n",
              "    <tr>\n",
              "      <th>30</th>\n",
              "      <td>1.0</td>\n",
              "      <td>w_2745292</td>\n",
              "      <td>1.724138</td>\n",
              "    </tr>\n",
              "    <tr>\n",
              "      <th>31</th>\n",
              "      <td>1.0</td>\n",
              "      <td>w_8b8dca8</td>\n",
              "      <td>1.724138</td>\n",
              "    </tr>\n",
              "    <tr>\n",
              "      <th>32</th>\n",
              "      <td>1.0</td>\n",
              "      <td>w_343f088</td>\n",
              "      <td>1.724138</td>\n",
              "    </tr>\n",
              "    <tr>\n",
              "      <th>33</th>\n",
              "      <td>1.0</td>\n",
              "      <td>w_3e18700</td>\n",
              "      <td>1.724138</td>\n",
              "    </tr>\n",
              "    <tr>\n",
              "      <th>34</th>\n",
              "      <td>1.0</td>\n",
              "      <td>w_789c969</td>\n",
              "      <td>1.724138</td>\n",
              "    </tr>\n",
              "    <tr>\n",
              "      <th>35</th>\n",
              "      <td>1.0</td>\n",
              "      <td>w_c98aaad</td>\n",
              "      <td>1.724138</td>\n",
              "    </tr>\n",
              "    <tr>\n",
              "      <th>36</th>\n",
              "      <td>1.0</td>\n",
              "      <td>w_5b16177</td>\n",
              "      <td>1.724138</td>\n",
              "    </tr>\n",
              "    <tr>\n",
              "      <th>37</th>\n",
              "      <td>1.0</td>\n",
              "      <td>w_84c23bb</td>\n",
              "      <td>1.724138</td>\n",
              "    </tr>\n",
              "    <tr>\n",
              "      <th>38</th>\n",
              "      <td>1.0</td>\n",
              "      <td>w_314bc30</td>\n",
              "      <td>1.724138</td>\n",
              "    </tr>\n",
              "    <tr>\n",
              "      <th>39</th>\n",
              "      <td>1.0</td>\n",
              "      <td>w_0f466a5</td>\n",
              "      <td>1.724138</td>\n",
              "    </tr>\n",
              "    <tr>\n",
              "      <th>40</th>\n",
              "      <td>1.0</td>\n",
              "      <td>w_8103832</td>\n",
              "      <td>1.724138</td>\n",
              "    </tr>\n",
              "    <tr>\n",
              "      <th>41</th>\n",
              "      <td>1.0</td>\n",
              "      <td>w_d223b2e</td>\n",
              "      <td>1.724138</td>\n",
              "    </tr>\n",
              "    <tr>\n",
              "      <th>42</th>\n",
              "      <td>1.0</td>\n",
              "      <td>w_eae8af4</td>\n",
              "      <td>1.724138</td>\n",
              "    </tr>\n",
              "    <tr>\n",
              "      <th>43</th>\n",
              "      <td>1.0</td>\n",
              "      <td>w_eaed433</td>\n",
              "      <td>1.724138</td>\n",
              "    </tr>\n",
              "    <tr>\n",
              "      <th>44</th>\n",
              "      <td>1.0</td>\n",
              "      <td>w_84308d6</td>\n",
              "      <td>1.724138</td>\n",
              "    </tr>\n",
              "    <tr>\n",
              "      <th>45</th>\n",
              "      <td>1.0</td>\n",
              "      <td>w_6d8b67b</td>\n",
              "      <td>1.724138</td>\n",
              "    </tr>\n",
              "    <tr>\n",
              "      <th>46</th>\n",
              "      <td>1.0</td>\n",
              "      <td>w_4a28f21</td>\n",
              "      <td>1.724138</td>\n",
              "    </tr>\n",
              "    <tr>\n",
              "      <th>47</th>\n",
              "      <td>1.0</td>\n",
              "      <td>w_9c506f6</td>\n",
              "      <td>1.724138</td>\n",
              "    </tr>\n",
              "    <tr>\n",
              "      <th>48</th>\n",
              "      <td>1.0</td>\n",
              "      <td>w_21d5943</td>\n",
              "      <td>1.724138</td>\n",
              "    </tr>\n",
              "    <tr>\n",
              "      <th>49</th>\n",
              "      <td>1.0</td>\n",
              "      <td>w_2807565</td>\n",
              "      <td>1.724138</td>\n",
              "    </tr>\n",
              "    <tr>\n",
              "      <th>50</th>\n",
              "      <td>1.0</td>\n",
              "      <td>w_420254e</td>\n",
              "      <td>1.724138</td>\n",
              "    </tr>\n",
              "    <tr>\n",
              "      <th>51</th>\n",
              "      <td>1.0</td>\n",
              "      <td>w_8d4c9f7</td>\n",
              "      <td>1.724138</td>\n",
              "    </tr>\n",
              "    <tr>\n",
              "      <th>52</th>\n",
              "      <td>1.0</td>\n",
              "      <td>w_04003e9</td>\n",
              "      <td>1.724138</td>\n",
              "    </tr>\n",
              "    <tr>\n",
              "      <th>53</th>\n",
              "      <td>1.0</td>\n",
              "      <td>w_7860ed5</td>\n",
              "      <td>1.724138</td>\n",
              "    </tr>\n",
              "    <tr>\n",
              "      <th>54</th>\n",
              "      <td>1.0</td>\n",
              "      <td>w_fe15413</td>\n",
              "      <td>1.724138</td>\n",
              "    </tr>\n",
              "    <tr>\n",
              "      <th>55</th>\n",
              "      <td>1.0</td>\n",
              "      <td>w_5ae026a</td>\n",
              "      <td>1.724138</td>\n",
              "    </tr>\n",
              "    <tr>\n",
              "      <th>56</th>\n",
              "      <td>1.0</td>\n",
              "      <td>w_555dcb4</td>\n",
              "      <td>1.724138</td>\n",
              "    </tr>\n",
              "    <tr>\n",
              "      <th>57</th>\n",
              "      <td>1.0</td>\n",
              "      <td>w_c01c1f4</td>\n",
              "      <td>1.724138</td>\n",
              "    </tr>\n",
              "  </tbody>\n",
              "</table>\n",
              "</div>"
            ],
            "text/plain": [
              "    count         Id    weight\n",
              "0    42.0  new_whale  0.041051\n",
              "1     2.0  w_f765256  0.862069\n",
              "2     1.0  w_bfae26b  1.724138\n",
              "3     1.0  w_bdded04  1.724138\n",
              "4     1.0  w_772845b  1.724138\n",
              "5     1.0  w_fbcfe74  1.724138\n",
              "6     1.0  w_3f93ee8  1.724138\n",
              "7     1.0  w_9f30885  1.724138\n",
              "8     1.0  w_ba4f96c  1.724138\n",
              "9     1.0  w_b3e445e  1.724138\n",
              "10    1.0  w_1a151e5  1.724138\n",
              "11    1.0  w_e1ffbe2  1.724138\n",
              "12    1.0  w_bc285a6  1.724138\n",
              "13    1.0  w_e8c5ff0  1.724138\n",
              "14    1.0  w_17a108a  1.724138\n",
              "15    1.0  w_9af432a  1.724138\n",
              "16    1.0  w_d0a7600  1.724138\n",
              "17    1.0  w_472b51c  1.724138\n",
              "18    1.0  w_2548d54  1.724138\n",
              "19    1.0  w_e6325d7  1.724138\n",
              "20    1.0  w_4d06559  1.724138\n",
              "21    1.0  w_39141fc  1.724138\n",
              "22    1.0  w_51e7506  1.724138\n",
              "23    1.0  w_d405854  1.724138\n",
              "24    1.0  w_9cf0388  1.724138\n",
              "25    1.0  w_bd1c3d5  1.724138\n",
              "26    1.0  w_f0fe284  1.724138\n",
              "27    1.0  w_107b98e  1.724138\n",
              "28    1.0  w_acbedef  1.724138\n",
              "29    1.0  w_583aba1  1.724138\n",
              "30    1.0  w_2745292  1.724138\n",
              "31    1.0  w_8b8dca8  1.724138\n",
              "32    1.0  w_343f088  1.724138\n",
              "33    1.0  w_3e18700  1.724138\n",
              "34    1.0  w_789c969  1.724138\n",
              "35    1.0  w_c98aaad  1.724138\n",
              "36    1.0  w_5b16177  1.724138\n",
              "37    1.0  w_84c23bb  1.724138\n",
              "38    1.0  w_314bc30  1.724138\n",
              "39    1.0  w_0f466a5  1.724138\n",
              "40    1.0  w_8103832  1.724138\n",
              "41    1.0  w_d223b2e  1.724138\n",
              "42    1.0  w_eae8af4  1.724138\n",
              "43    1.0  w_eaed433  1.724138\n",
              "44    1.0  w_84308d6  1.724138\n",
              "45    1.0  w_6d8b67b  1.724138\n",
              "46    1.0  w_4a28f21  1.724138\n",
              "47    1.0  w_9c506f6  1.724138\n",
              "48    1.0  w_21d5943  1.724138\n",
              "49    1.0  w_2807565  1.724138\n",
              "50    1.0  w_420254e  1.724138\n",
              "51    1.0  w_8d4c9f7  1.724138\n",
              "52    1.0  w_04003e9  1.724138\n",
              "53    1.0  w_7860ed5  1.724138\n",
              "54    1.0  w_fe15413  1.724138\n",
              "55    1.0  w_5ae026a  1.724138\n",
              "56    1.0  w_555dcb4  1.724138\n",
              "57    1.0  w_c01c1f4  1.724138"
            ]
          },
          "metadata": {
            "tags": []
          },
          "execution_count": 83
        }
      ]
    },
    {
      "metadata": {
        "id": "UoZ4AuVZq48C",
        "colab_type": "code",
        "colab": {
          "base_uri": "https://localhost:8080/",
          "height": 153
        },
        "outputId": "f62e1b34-c441-4a97-c27a-c4e0cf0d9791"
      },
      "cell_type": "code",
      "source": [
        "# Train data on part of the full training data to check performance with\n",
        "epochs = 8\n",
        "# training_data = full_train_generator\n",
        "training_data = gen_train\n",
        "\n",
        "image_count = len(training_data)\n",
        "progress_printer = 25\n",
        "\n",
        "for e in range(epochs):\n",
        "    running_loss, i = 0, 0\n",
        "\n",
        "    for image, label, _ in training_data:\n",
        "        label = label_to_id(label)\n",
        "        image, label = image.to(device), label.to(device)\n",
        "        i +=1 \n",
        "        if i % progress_printer == 0:\n",
        "            print('{:.0f}% complete'.format(i/image_count*100))\n",
        "        log_ps = model(image)\n",
        "        loss = criterion(log_ps, label)\n",
        "\n",
        "        optimizer.zero_grad()\n",
        "        loss.backward()\n",
        "        optimizer.step()\n",
        "\n",
        "        running_loss += loss.item()\n",
        "    \n",
        "    print('epoch {}: loss: {}'.format(e,running_loss))"
      ],
      "execution_count": 92,
      "outputs": [
        {
          "output_type": "stream",
          "text": [
            "epoch 0: loss: 1.9859444200992584\n",
            "epoch 1: loss: 0.7412857860326767\n",
            "epoch 2: loss: 0.20648090913891792\n",
            "epoch 3: loss: 0.19542932603508234\n",
            "epoch 4: loss: 0.028489333228208125\n",
            "epoch 5: loss: 0.2931515444070101\n",
            "epoch 6: loss: 0.46714760549366474\n",
            "epoch 7: loss: 0.22495484357932582\n"
          ],
          "name": "stdout"
        }
      ]
    },
    {
      "metadata": {
        "id": "vIbMcmYirGeT",
        "colab_type": "code",
        "colab": {}
      },
      "cell_type": "code",
      "source": [
        "def testModel(model, testing_data):\n",
        "    model.eval()\n",
        "    with torch.no_grad():\n",
        "      numCorrect = 0\n",
        "      total = 0\n",
        "      batch = 0 \n",
        "      progress_printer = 25\n",
        "      for image, label,imageName in testing_data:\n",
        "          label = label_to_id(label).to(device)\n",
        "          image = image.to(device)\n",
        "          predicted = model(image)\n",
        "          top5Pred, top5PredIndices = torch.topk(predicted, 5)\n",
        "          #top5Pred, top5PredIndices = torch.topk(predicted, 1)\n",
        "          for p in range(len(top5PredIndices)):\n",
        "              currPred = top5PredIndices[p]\n",
        "              numCorrect += (label[p] in currPred)\n",
        "          total += len(label)\n",
        "          batch += 1\n",
        "          if (batch % progress_printer == 0):\n",
        "            print(\"NumCorrect:\", numCorrect, \"with total:\", total, \" (Batch\", batch, \")\")\n",
        "      return numCorrect / total"
      ],
      "execution_count": 0,
      "outputs": []
    },
    {
      "metadata": {
        "id": "cJ1O4eNhrLld",
        "colab_type": "code",
        "colab": {
          "base_uri": "https://localhost:8080/",
          "height": 51
        },
        "outputId": "faa3bc00-31d9-4503-f20a-e340d3d37cfa"
      },
      "cell_type": "code",
      "source": [
        "print(len(gen_train))\n",
        "training_acc = testModel(model, gen_train)\n",
        "print('Training acc:', training_acc)"
      ],
      "execution_count": 94,
      "outputs": [
        {
          "output_type": "stream",
          "text": [
            "4\n",
            "Training acc: 1.0\n"
          ],
          "name": "stdout"
        }
      ]
    },
    {
      "metadata": {
        "id": "xqsIDFnm0915",
        "colab_type": "code",
        "colab": {}
      },
      "cell_type": "code",
      "source": [
        "def predictTest(model, testing_data, sample_only=False):\n",
        "    image_list = copy.deepcopy(train_dataset.image_list)\n",
        "    predictions = []\n",
        "    jpg = []\n",
        "    lenTest = len(testing_data) * 1.0\n",
        "    progress_print = 10\n",
        "    for index, (image, label, imageName) in enumerate(testing_data):\n",
        "          image = image.to(device)\n",
        "          predicted = model(image)\n",
        "          top5Pred, top5PredIndices = torch.topk(predicted, 5)\n",
        "          for p in range(len(top5PredIndices)):\n",
        "              currPred = top5PredIndices[p]\n",
        "              currPred.cpu()\n",
        "              relabel_whaleid = []\n",
        "              for i in currPred:          \n",
        "                  relabel_whaleid.append(weight_df.loc[int(i),'Id'])\n",
        "              jpg.append(imageName[p])\n",
        "              predictions.append(' '.join(relabel_whaleid))  \n",
        "          if index % progress_print == 0:\n",
        "            print(f'{index / lenTest * 100}%')\n",
        "          if sample_only:\n",
        "            break;\n",
        "    \n",
        "    whale_predictions = pd.DataFrame({'Image':jpg,'Id':predictions})\n",
        "    return whale_predictions"
      ],
      "execution_count": 0,
      "outputs": []
    },
    {
      "metadata": {
        "id": "DvlUnCFE3P0D",
        "colab_type": "code",
        "colab": {
          "base_uri": "https://localhost:8080/",
          "height": 221
        },
        "outputId": "fd0fac2b-32e8-4500-fc05-a58a936e89c6"
      },
      "cell_type": "code",
      "source": [
        "test_predictions = predictTest(model, gen_train, False)\n",
        "test_predictions = test_predictions[test_predictions.columns[::-1]]\n",
        "test_predictions.head()"
      ],
      "execution_count": 102,
      "outputs": [
        {
          "output_type": "stream",
          "text": [
            "0.0%\n"
          ],
          "name": "stdout"
        },
        {
          "output_type": "execute_result",
          "data": {
            "text/html": [
              "<div>\n",
              "<style scoped>\n",
              "    .dataframe tbody tr th:only-of-type {\n",
              "        vertical-align: middle;\n",
              "    }\n",
              "\n",
              "    .dataframe tbody tr th {\n",
              "        vertical-align: top;\n",
              "    }\n",
              "\n",
              "    .dataframe thead th {\n",
              "        text-align: right;\n",
              "    }\n",
              "</style>\n",
              "<table border=\"1\" class=\"dataframe\">\n",
              "  <thead>\n",
              "    <tr style=\"text-align: right;\">\n",
              "      <th></th>\n",
              "      <th>Image</th>\n",
              "      <th>Id</th>\n",
              "    </tr>\n",
              "  </thead>\n",
              "  <tbody>\n",
              "    <tr>\n",
              "      <th>0</th>\n",
              "      <td>ff1355a33.jpg</td>\n",
              "      <td>w_5ae026a new_whale w_ba4f96c w_2548d54 w_789c969</td>\n",
              "    </tr>\n",
              "    <tr>\n",
              "      <th>1</th>\n",
              "      <td>ff03a0385.jpg</td>\n",
              "      <td>new_whale w_772845b w_555dcb4 w_2807565 w_7860ed5</td>\n",
              "    </tr>\n",
              "    <tr>\n",
              "      <th>2</th>\n",
              "      <td>ff66e1a65.jpg</td>\n",
              "      <td>w_555dcb4 new_whale w_4d06559 w_bfae26b w_8b8dca8</td>\n",
              "    </tr>\n",
              "    <tr>\n",
              "      <th>3</th>\n",
              "      <td>ffad62503.jpg</td>\n",
              "      <td>new_whale w_343f088 w_8103832 w_772845b w_bdded04</td>\n",
              "    </tr>\n",
              "    <tr>\n",
              "      <th>4</th>\n",
              "      <td>ff75f104a.jpg</td>\n",
              "      <td>new_whale w_d0a7600 w_bdded04 w_107b98e w_2807565</td>\n",
              "    </tr>\n",
              "  </tbody>\n",
              "</table>\n",
              "</div>"
            ],
            "text/plain": [
              "           Image                                                 Id\n",
              "0  ff1355a33.jpg  w_5ae026a new_whale w_ba4f96c w_2548d54 w_789c969\n",
              "1  ff03a0385.jpg  new_whale w_772845b w_555dcb4 w_2807565 w_7860ed5\n",
              "2  ff66e1a65.jpg  w_555dcb4 new_whale w_4d06559 w_bfae26b w_8b8dca8\n",
              "3  ffad62503.jpg  new_whale w_343f088 w_8103832 w_772845b w_bdded04\n",
              "4  ff75f104a.jpg  new_whale w_d0a7600 w_bdded04 w_107b98e w_2807565"
            ]
          },
          "metadata": {
            "tags": []
          },
          "execution_count": 102
        }
      ]
    }
  ]
}